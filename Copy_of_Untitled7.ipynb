{
  "nbformat": 4,
  "nbformat_minor": 0,
  "metadata": {
    "colab": {
      "name": "Copy of Untitled7.ipynb",
      "provenance": [],
      "collapsed_sections": [],
      "authorship_tag": "ABX9TyNu0c2rX5WBqUmU3lH7Z3Ph",
      "include_colab_link": true
    },
    "kernelspec": {
      "name": "python3",
      "display_name": "Python 3"
    }
  },
  "cells": [
    {
      "cell_type": "markdown",
      "metadata": {
        "id": "view-in-github",
        "colab_type": "text"
      },
      "source": [
        "<a href=\"https://colab.research.google.com/github/ginnie3112x/BMIRechnerTTD/blob/master/Copy_of_Untitled7.ipynb\" target=\"_parent\"><img src=\"https://colab.research.google.com/assets/colab-badge.svg\" alt=\"Open In Colab\"/></a>"
      ]
    },
    {
      "cell_type": "code",
      "metadata": {
        "id": "7OsLL__xFOo9",
        "colab_type": "code",
        "outputId": "1c14c3b8-4303-497e-aea2-17c2fb53e742",
        "colab": {
          "base_uri": "https://localhost:8080/",
          "height": 571
        }
      },
      "source": [
        "import numpy as np\n",
        "import pandas as pd\n",
        "from nltk.tokenize import RegexpTokenizer\n",
        "\n",
        "df = pd.read_csv('races.csv', sep = \";\", header =0, index_col=0)\n",
        "df = df.head(10)\n",
        "\n",
        "df\n"
      ],
      "execution_count": 0,
      "outputs": [
        {
          "output_type": "execute_result",
          "data": {
            "text/html": [
              "<div>\n",
              "<style scoped>\n",
              "    .dataframe tbody tr th:only-of-type {\n",
              "        vertical-align: middle;\n",
              "    }\n",
              "\n",
              "    .dataframe tbody tr th {\n",
              "        vertical-align: top;\n",
              "    }\n",
              "\n",
              "    .dataframe thead th {\n",
              "        text-align: right;\n",
              "    }\n",
              "</style>\n",
              "<table border=\"1\" class=\"dataframe\">\n",
              "  <thead>\n",
              "    <tr style=\"text-align: right;\">\n",
              "      <th></th>\n",
              "      <th>race_created</th>\n",
              "      <th>race_driven</th>\n",
              "      <th>track_id</th>\n",
              "      <th>challenger</th>\n",
              "      <th>opponent</th>\n",
              "      <th>money</th>\n",
              "      <th>fuel_consumption</th>\n",
              "      <th>winner</th>\n",
              "      <th>status</th>\n",
              "      <th>forecast</th>\n",
              "      <th>weather</th>\n",
              "    </tr>\n",
              "    <tr>\n",
              "      <th>id</th>\n",
              "      <th></th>\n",
              "      <th></th>\n",
              "      <th></th>\n",
              "      <th></th>\n",
              "      <th></th>\n",
              "      <th></th>\n",
              "      <th></th>\n",
              "      <th></th>\n",
              "      <th></th>\n",
              "      <th></th>\n",
              "      <th></th>\n",
              "    </tr>\n",
              "  </thead>\n",
              "  <tbody>\n",
              "    <tr>\n",
              "      <th>1</th>\n",
              "      <td>\\t06.03.2012</td>\n",
              "      <td>06.03.2012 00:00</td>\n",
              "      <td>12</td>\n",
              "      <td>5</td>\n",
              "      <td>2</td>\n",
              "      <td>30</td>\n",
              "      <td>0.63</td>\n",
              "      <td>5</td>\n",
              "      <td>finished</td>\n",
              "      <td>a:4:{s:5:\"sunny\";i:10;s:5:\"rainy\";i:70;s:8:\"th...</td>\n",
              "      <td>rainy</td>\n",
              "    </tr>\n",
              "    <tr>\n",
              "      <th>2</th>\n",
              "      <td>06.03.2012</td>\n",
              "      <td>06.03.2012 00:03</td>\n",
              "      <td>12</td>\n",
              "      <td>5</td>\n",
              "      <td>4</td>\n",
              "      <td>30</td>\n",
              "      <td>0.63</td>\n",
              "      <td>4</td>\n",
              "      <td>finished</td>\n",
              "      <td>a:4:{s:5:\"sunny\";i:70;s:5:\"rainy\";i:15;s:8:\"th...</td>\n",
              "      <td>sunny</td>\n",
              "    </tr>\n",
              "    <tr>\n",
              "      <th>3</th>\n",
              "      <td>06.03.2012</td>\n",
              "      <td>0000-00-00 00:00:00</td>\n",
              "      <td>3</td>\n",
              "      <td>10</td>\n",
              "      <td>5</td>\n",
              "      <td>30</td>\n",
              "      <td>0.63</td>\n",
              "      <td>0</td>\n",
              "      <td>declined</td>\n",
              "      <td>a:4:{s:5:\"sunny\";i:70;s:5:\"rainy\";i:10;s:8:\"th...</td>\n",
              "      <td>NaN</td>\n",
              "    </tr>\n",
              "    <tr>\n",
              "      <th>4</th>\n",
              "      <td>06.03.2012</td>\n",
              "      <td>06.03.2012 00:06</td>\n",
              "      <td>12</td>\n",
              "      <td>5</td>\n",
              "      <td>4</td>\n",
              "      <td>30</td>\n",
              "      <td>0.63</td>\n",
              "      <td>5</td>\n",
              "      <td>finished</td>\n",
              "      <td>a:4:{s:5:\"sunny\";i:25;s:5:\"rainy\";i:75;s:8:\"th...</td>\n",
              "      <td>sunny</td>\n",
              "    </tr>\n",
              "    <tr>\n",
              "      <th>5</th>\n",
              "      <td>06.03.2012</td>\n",
              "      <td>0000-00-00 00:00:00</td>\n",
              "      <td>12</td>\n",
              "      <td>4</td>\n",
              "      <td>5</td>\n",
              "      <td>30</td>\n",
              "      <td>0.63</td>\n",
              "      <td>0</td>\n",
              "      <td>declined</td>\n",
              "      <td>a:4:{s:5:\"sunny\";i:45;s:5:\"rainy\";i:20;s:8:\"th...</td>\n",
              "      <td>NaN</td>\n",
              "    </tr>\n",
              "    <tr>\n",
              "      <th>6</th>\n",
              "      <td>06.03.2012</td>\n",
              "      <td>06.03.2012 00:17</td>\n",
              "      <td>12</td>\n",
              "      <td>5</td>\n",
              "      <td>10</td>\n",
              "      <td>100</td>\n",
              "      <td>0.63</td>\n",
              "      <td>5</td>\n",
              "      <td>finished</td>\n",
              "      <td>a:4:{s:5:\"sunny\";i:30;s:5:\"rainy\";i:20;s:8:\"th...</td>\n",
              "      <td>snowy</td>\n",
              "    </tr>\n",
              "    <tr>\n",
              "      <th>7</th>\n",
              "      <td>06.03.2012</td>\n",
              "      <td>0000-00-00 00:00:00</td>\n",
              "      <td>12</td>\n",
              "      <td>8</td>\n",
              "      <td>5</td>\n",
              "      <td>30</td>\n",
              "      <td>0.63</td>\n",
              "      <td>0</td>\n",
              "      <td>declined</td>\n",
              "      <td>a:4:{s:5:\"sunny\";i:80;s:5:\"rainy\";i:5;s:8:\"thu...</td>\n",
              "      <td>NaN</td>\n",
              "    </tr>\n",
              "    <tr>\n",
              "      <th>8</th>\n",
              "      <td>06.03.2012</td>\n",
              "      <td>0000-00-00 00:00:00</td>\n",
              "      <td>12</td>\n",
              "      <td>8</td>\n",
              "      <td>2</td>\n",
              "      <td>30</td>\n",
              "      <td>0.63</td>\n",
              "      <td>0</td>\n",
              "      <td>retired</td>\n",
              "      <td>a:4:{s:5:\"sunny\";i:95;s:5:\"rainy\";i:5;s:8:\"thu...</td>\n",
              "      <td>NaN</td>\n",
              "    </tr>\n",
              "    <tr>\n",
              "      <th>9</th>\n",
              "      <td>06.03.2012</td>\n",
              "      <td>06.03.2012 00:08</td>\n",
              "      <td>3</td>\n",
              "      <td>10</td>\n",
              "      <td>4</td>\n",
              "      <td>30</td>\n",
              "      <td>0.63</td>\n",
              "      <td>4</td>\n",
              "      <td>finished</td>\n",
              "      <td>a:4:{s:5:\"sunny\";i:45;s:5:\"rainy\";i:40;s:8:\"th...</td>\n",
              "      <td>sunny</td>\n",
              "    </tr>\n",
              "    <tr>\n",
              "      <th>10</th>\n",
              "      <td>06.03.2012</td>\n",
              "      <td>06.03.2012 00:10</td>\n",
              "      <td>12</td>\n",
              "      <td>8</td>\n",
              "      <td>10</td>\n",
              "      <td>30</td>\n",
              "      <td>0.63</td>\n",
              "      <td>10</td>\n",
              "      <td>finished</td>\n",
              "      <td>a:4:{s:5:\"sunny\";i:100;s:5:\"rainy\";i:0;s:8:\"th...</td>\n",
              "      <td>sunny</td>\n",
              "    </tr>\n",
              "  </tbody>\n",
              "</table>\n",
              "</div>"
            ],
            "text/plain": [
              "    race_created  ... weather\n",
              "id                ...        \n",
              "1   \\t06.03.2012  ...   rainy\n",
              "2     06.03.2012  ...   sunny\n",
              "3     06.03.2012  ...     NaN\n",
              "4     06.03.2012  ...   sunny\n",
              "5     06.03.2012  ...     NaN\n",
              "6     06.03.2012  ...   snowy\n",
              "7     06.03.2012  ...     NaN\n",
              "8     06.03.2012  ...     NaN\n",
              "9     06.03.2012  ...   sunny\n",
              "10    06.03.2012  ...   sunny\n",
              "\n",
              "[10 rows x 11 columns]"
            ]
          },
          "metadata": {
            "tags": []
          },
          "execution_count": 501
        }
      ]
    },
    {
      "cell_type": "markdown",
      "metadata": {
        "id": "_B9xC0OwG2fY",
        "colab_type": "text"
      },
      "source": [
        "Configures dtypes"
      ]
    },
    {
      "cell_type": "code",
      "metadata": {
        "id": "35W1kfIF9gIV",
        "colab_type": "code",
        "outputId": "ae7f79b5-63ab-424f-997b-e4767adb36b9",
        "colab": {
          "base_uri": "https://localhost:8080/",
          "height": 235
        }
      },
      "source": [
        "df = df.replace('0000-00-00 00:00:00', np.nan)\n",
        "df['race_created'] = pd.Series(df['race_created'],dtype='datetime64[ns]')\n",
        "df['race_driven'] = pd.Series(df['race_driven'],dtype='datetime64[ns]')\n",
        "df['money'] = pd.Series(df['money'],dtype='float64')\n",
        "df['fuel_consumption'] = pd.Series(df['fuel_consumption'],dtype='float64')\n",
        "\n",
        "df.dtypes"
      ],
      "execution_count": 0,
      "outputs": [
        {
          "output_type": "execute_result",
          "data": {
            "text/plain": [
              "race_created        datetime64[ns]\n",
              "race_driven         datetime64[ns]\n",
              "track_id                     int64\n",
              "challenger                   int64\n",
              "opponent                     int64\n",
              "money                      float64\n",
              "fuel_consumption           float64\n",
              "winner                       int64\n",
              "status                      object\n",
              "forecast                    object\n",
              "weather                     object\n",
              "dtype: object"
            ]
          },
          "metadata": {
            "tags": []
          },
          "execution_count": 502
        }
      ]
    },
    {
      "cell_type": "markdown",
      "metadata": {
        "id": "6FBt0Ahmeedq",
        "colab_type": "text"
      },
      "source": [
        "Resolves the weatherforecast and integrates to table.\n",
        "\n",
        "Finds the strings with regex, resets the index level and creates \n",
        " pivot table. Merges the result and drop the concerned columns"
      ]
    },
    {
      "cell_type": "code",
      "metadata": {
        "id": "pqlarRSCFzjr",
        "colab_type": "code",
        "outputId": "2f0d17ca-7c03-4b89-d3e5-8325fa1a1651",
        "colab": {
          "base_uri": "https://localhost:8080/",
          "height": 502
        }
      },
      "source": [
        "dic = df.forecast.str.extractall('\"(?P<weather>.*?)\";i:(?P<percent>\\d+)').reset_index(level=0).pivot(index='id', columns='weather', values='percent') \n",
        "df = pd.merge(df, dic, how='left', on='id').drop('forecast',axis = 1)\n",
        "df\n"
      ],
      "execution_count": 0,
      "outputs": [
        {
          "output_type": "execute_result",
          "data": {
            "text/html": [
              "<div>\n",
              "<style scoped>\n",
              "    .dataframe tbody tr th:only-of-type {\n",
              "        vertical-align: middle;\n",
              "    }\n",
              "\n",
              "    .dataframe tbody tr th {\n",
              "        vertical-align: top;\n",
              "    }\n",
              "\n",
              "    .dataframe thead th {\n",
              "        text-align: right;\n",
              "    }\n",
              "</style>\n",
              "<table border=\"1\" class=\"dataframe\">\n",
              "  <thead>\n",
              "    <tr style=\"text-align: right;\">\n",
              "      <th></th>\n",
              "      <th>race_created</th>\n",
              "      <th>race_driven</th>\n",
              "      <th>track_id</th>\n",
              "      <th>challenger</th>\n",
              "      <th>opponent</th>\n",
              "      <th>money</th>\n",
              "      <th>fuel_consumption</th>\n",
              "      <th>winner</th>\n",
              "      <th>status</th>\n",
              "      <th>weather</th>\n",
              "      <th>rainy</th>\n",
              "      <th>snowy</th>\n",
              "      <th>sunny</th>\n",
              "      <th>thundery</th>\n",
              "    </tr>\n",
              "    <tr>\n",
              "      <th>id</th>\n",
              "      <th></th>\n",
              "      <th></th>\n",
              "      <th></th>\n",
              "      <th></th>\n",
              "      <th></th>\n",
              "      <th></th>\n",
              "      <th></th>\n",
              "      <th></th>\n",
              "      <th></th>\n",
              "      <th></th>\n",
              "      <th></th>\n",
              "      <th></th>\n",
              "      <th></th>\n",
              "      <th></th>\n",
              "    </tr>\n",
              "  </thead>\n",
              "  <tbody>\n",
              "    <tr>\n",
              "      <th>1</th>\n",
              "      <td>2012-06-03</td>\n",
              "      <td>2012-06-03 00:00:00</td>\n",
              "      <td>12</td>\n",
              "      <td>5</td>\n",
              "      <td>2</td>\n",
              "      <td>30.0</td>\n",
              "      <td>0.63</td>\n",
              "      <td>5</td>\n",
              "      <td>finished</td>\n",
              "      <td>rainy</td>\n",
              "      <td>70</td>\n",
              "      <td>20</td>\n",
              "      <td>10</td>\n",
              "      <td>0</td>\n",
              "    </tr>\n",
              "    <tr>\n",
              "      <th>2</th>\n",
              "      <td>2012-06-03</td>\n",
              "      <td>2012-06-03 00:03:00</td>\n",
              "      <td>12</td>\n",
              "      <td>5</td>\n",
              "      <td>4</td>\n",
              "      <td>30.0</td>\n",
              "      <td>0.63</td>\n",
              "      <td>4</td>\n",
              "      <td>finished</td>\n",
              "      <td>sunny</td>\n",
              "      <td>15</td>\n",
              "      <td>15</td>\n",
              "      <td>70</td>\n",
              "      <td>0</td>\n",
              "    </tr>\n",
              "    <tr>\n",
              "      <th>3</th>\n",
              "      <td>2012-06-03</td>\n",
              "      <td>NaT</td>\n",
              "      <td>3</td>\n",
              "      <td>10</td>\n",
              "      <td>5</td>\n",
              "      <td>30.0</td>\n",
              "      <td>0.63</td>\n",
              "      <td>0</td>\n",
              "      <td>declined</td>\n",
              "      <td>NaN</td>\n",
              "      <td>10</td>\n",
              "      <td>5</td>\n",
              "      <td>70</td>\n",
              "      <td>15</td>\n",
              "    </tr>\n",
              "    <tr>\n",
              "      <th>4</th>\n",
              "      <td>2012-06-03</td>\n",
              "      <td>2012-06-03 00:06:00</td>\n",
              "      <td>12</td>\n",
              "      <td>5</td>\n",
              "      <td>4</td>\n",
              "      <td>30.0</td>\n",
              "      <td>0.63</td>\n",
              "      <td>5</td>\n",
              "      <td>finished</td>\n",
              "      <td>sunny</td>\n",
              "      <td>75</td>\n",
              "      <td>0</td>\n",
              "      <td>25</td>\n",
              "      <td>0</td>\n",
              "    </tr>\n",
              "    <tr>\n",
              "      <th>5</th>\n",
              "      <td>2012-06-03</td>\n",
              "      <td>NaT</td>\n",
              "      <td>12</td>\n",
              "      <td>4</td>\n",
              "      <td>5</td>\n",
              "      <td>30.0</td>\n",
              "      <td>0.63</td>\n",
              "      <td>0</td>\n",
              "      <td>declined</td>\n",
              "      <td>NaN</td>\n",
              "      <td>20</td>\n",
              "      <td>5</td>\n",
              "      <td>45</td>\n",
              "      <td>30</td>\n",
              "    </tr>\n",
              "    <tr>\n",
              "      <th>6</th>\n",
              "      <td>2012-06-03</td>\n",
              "      <td>2012-06-03 00:17:00</td>\n",
              "      <td>12</td>\n",
              "      <td>5</td>\n",
              "      <td>10</td>\n",
              "      <td>100.0</td>\n",
              "      <td>0.63</td>\n",
              "      <td>5</td>\n",
              "      <td>finished</td>\n",
              "      <td>snowy</td>\n",
              "      <td>20</td>\n",
              "      <td>45</td>\n",
              "      <td>30</td>\n",
              "      <td>5</td>\n",
              "    </tr>\n",
              "    <tr>\n",
              "      <th>7</th>\n",
              "      <td>2012-06-03</td>\n",
              "      <td>NaT</td>\n",
              "      <td>12</td>\n",
              "      <td>8</td>\n",
              "      <td>5</td>\n",
              "      <td>30.0</td>\n",
              "      <td>0.63</td>\n",
              "      <td>0</td>\n",
              "      <td>declined</td>\n",
              "      <td>NaN</td>\n",
              "      <td>5</td>\n",
              "      <td>5</td>\n",
              "      <td>80</td>\n",
              "      <td>10</td>\n",
              "    </tr>\n",
              "    <tr>\n",
              "      <th>8</th>\n",
              "      <td>2012-06-03</td>\n",
              "      <td>NaT</td>\n",
              "      <td>12</td>\n",
              "      <td>8</td>\n",
              "      <td>2</td>\n",
              "      <td>30.0</td>\n",
              "      <td>0.63</td>\n",
              "      <td>0</td>\n",
              "      <td>retired</td>\n",
              "      <td>NaN</td>\n",
              "      <td>5</td>\n",
              "      <td>0</td>\n",
              "      <td>95</td>\n",
              "      <td>0</td>\n",
              "    </tr>\n",
              "    <tr>\n",
              "      <th>9</th>\n",
              "      <td>2012-06-03</td>\n",
              "      <td>2012-06-03 00:08:00</td>\n",
              "      <td>3</td>\n",
              "      <td>10</td>\n",
              "      <td>4</td>\n",
              "      <td>30.0</td>\n",
              "      <td>0.63</td>\n",
              "      <td>4</td>\n",
              "      <td>finished</td>\n",
              "      <td>sunny</td>\n",
              "      <td>40</td>\n",
              "      <td>5</td>\n",
              "      <td>45</td>\n",
              "      <td>10</td>\n",
              "    </tr>\n",
              "    <tr>\n",
              "      <th>10</th>\n",
              "      <td>2012-06-03</td>\n",
              "      <td>2012-06-03 00:10:00</td>\n",
              "      <td>12</td>\n",
              "      <td>8</td>\n",
              "      <td>10</td>\n",
              "      <td>30.0</td>\n",
              "      <td>0.63</td>\n",
              "      <td>10</td>\n",
              "      <td>finished</td>\n",
              "      <td>sunny</td>\n",
              "      <td>0</td>\n",
              "      <td>0</td>\n",
              "      <td>100</td>\n",
              "      <td>0</td>\n",
              "    </tr>\n",
              "  </tbody>\n",
              "</table>\n",
              "</div>"
            ],
            "text/plain": [
              "   race_created         race_driven  track_id  ...  snowy  sunny  thundery\n",
              "id                                             ...                        \n",
              "1    2012-06-03 2012-06-03 00:00:00        12  ...     20     10         0\n",
              "2    2012-06-03 2012-06-03 00:03:00        12  ...     15     70         0\n",
              "3    2012-06-03                 NaT         3  ...      5     70        15\n",
              "4    2012-06-03 2012-06-03 00:06:00        12  ...      0     25         0\n",
              "5    2012-06-03                 NaT        12  ...      5     45        30\n",
              "6    2012-06-03 2012-06-03 00:17:00        12  ...     45     30         5\n",
              "7    2012-06-03                 NaT        12  ...      5     80        10\n",
              "8    2012-06-03                 NaT        12  ...      0     95         0\n",
              "9    2012-06-03 2012-06-03 00:08:00         3  ...      5     45        10\n",
              "10   2012-06-03 2012-06-03 00:10:00        12  ...      0    100         0\n",
              "\n",
              "[10 rows x 14 columns]"
            ]
          },
          "metadata": {
            "tags": []
          },
          "execution_count": 503
        }
      ]
    },
    {
      "cell_type": "code",
      "metadata": {
        "id": "tZHaAWO25Czg",
        "colab_type": "code",
        "outputId": "50006ed3-1ffd-4363-8e7e-6b843c6efa1b",
        "colab": {
          "base_uri": "https://localhost:8080/",
          "height": 290
        }
      },
      "source": [
        "df['rainy'] = pd.Series(df['rainy'],dtype='int32')\n",
        "df['snowy'] = pd.Series(df['snowy'],dtype='int32')\n",
        "df['sunny'] = pd.Series(df['sunny'],dtype='int32')\n",
        "df['thundery'] = pd.Series(df['thundery'],dtype='int32')\n",
        "df.dtypes"
      ],
      "execution_count": 0,
      "outputs": [
        {
          "output_type": "execute_result",
          "data": {
            "text/plain": [
              "race_created        datetime64[ns]\n",
              "race_driven         datetime64[ns]\n",
              "track_id                     int64\n",
              "challenger                   int64\n",
              "opponent                     int64\n",
              "money                      float64\n",
              "fuel_consumption           float64\n",
              "winner                       int64\n",
              "status                      object\n",
              "weather                     object\n",
              "rainy                        int32\n",
              "snowy                        int32\n",
              "sunny                        int32\n",
              "thundery                     int32\n",
              "dtype: object"
            ]
          },
          "metadata": {
            "tags": []
          },
          "execution_count": 504
        }
      ]
    },
    {
      "cell_type": "code",
      "metadata": {
        "id": "5icr3DWb3ZxO",
        "colab_type": "code",
        "colab": {}
      },
      "source": [
        "val = []"
      ],
      "execution_count": 0,
      "outputs": []
    },
    {
      "cell_type": "markdown",
      "metadata": {
        "id": "AVh7NB3pwMV1",
        "colab_type": "text"
      },
      "source": [
        "Average fuel consumption"
      ]
    },
    {
      "cell_type": "code",
      "metadata": {
        "id": "XVSSyhgu3vxq",
        "colab_type": "code",
        "outputId": "5cc6329b-e17f-41cb-9bd6-5075c2523401",
        "colab": {
          "base_uri": "https://localhost:8080/",
          "height": 35
        }
      },
      "source": [
        "mean_fuel = df['fuel_consumption'].mean()\n",
        "print('The average of fuel consumption for all races is', round(mean_fuel, 2))\n",
        "val.append(mean_fuel)"
      ],
      "execution_count": 0,
      "outputs": [
        {
          "output_type": "stream",
          "text": [
            "The average of fuel consumption for all races is 0.63\n"
          ],
          "name": "stdout"
        }
      ]
    },
    {
      "cell_type": "markdown",
      "metadata": {
        "id": "jePdiJb6zDog",
        "colab_type": "text"
      },
      "source": [
        "Maximum fuel consumption"
      ]
    },
    {
      "cell_type": "code",
      "metadata": {
        "id": "ype9IctkzIuh",
        "colab_type": "code",
        "outputId": "dc913fe8-7833-438e-c114-a82b8ceb2d5b",
        "colab": {
          "base_uri": "https://localhost:8080/",
          "height": 35
        }
      },
      "source": [
        "max_fuel = df['fuel_consumption'].max()\n",
        "print('The maximum of fuel consumption for all races is', round(max_fuel, 2))\n",
        "val.append(max_fuel)"
      ],
      "execution_count": 0,
      "outputs": [
        {
          "output_type": "stream",
          "text": [
            "The maximum of fuel consumption for all races is 0.63\n"
          ],
          "name": "stdout"
        }
      ]
    },
    {
      "cell_type": "markdown",
      "metadata": {
        "id": "lhVXvzPLxiX_",
        "colab_type": "text"
      },
      "source": [
        "Average money"
      ]
    },
    {
      "cell_type": "code",
      "metadata": {
        "colab_type": "code",
        "outputId": "0d0e8574-3fad-44ff-981f-9d92b8394e61",
        "id": "l6LAObMAxgIm",
        "colab": {
          "base_uri": "https://localhost:8080/",
          "height": 35
        }
      },
      "source": [
        "mean_money = df['money'].mean()\n",
        "print('The average of money for all races is', round(mean_money, 2))\n",
        "val.append(mean_money)"
      ],
      "execution_count": 0,
      "outputs": [
        {
          "output_type": "stream",
          "text": [
            "The average of money for all races is 37.0\n"
          ],
          "name": "stdout"
        }
      ]
    },
    {
      "cell_type": "markdown",
      "metadata": {
        "id": "XWw0HY_Zx8HN",
        "colab_type": "text"
      },
      "source": [
        "Sum all money"
      ]
    },
    {
      "cell_type": "code",
      "metadata": {
        "id": "31OpfQ5Ax_9F",
        "colab_type": "code",
        "outputId": "f8ddfbd1-80c7-4152-a876-58c6e4e06baf",
        "colab": {
          "base_uri": "https://localhost:8080/",
          "height": 35
        }
      },
      "source": [
        "sum_money = df['money'].sum()\n",
        "print('The sum of money for all races is', round(sum_money, 2),'Dollar')\n",
        "val.append(sum_money)"
      ],
      "execution_count": 0,
      "outputs": [
        {
          "output_type": "stream",
          "text": [
            "The sum of money for all races is 370.0 Dollar\n"
          ],
          "name": "stdout"
        }
      ]
    },
    {
      "cell_type": "markdown",
      "metadata": {
        "id": "yw6N5yITygZd",
        "colab_type": "text"
      },
      "source": [
        "Maximum Money"
      ]
    },
    {
      "cell_type": "code",
      "metadata": {
        "id": "lI_QOTYgy0OM",
        "colab_type": "code",
        "outputId": "5313bfe7-c361-4c6c-c7a4-97f2d2d5f190",
        "colab": {
          "base_uri": "https://localhost:8080/",
          "height": 35
        }
      },
      "source": [
        "max_money = df['money'].max()\n",
        "print('The maximum of money for all races is', round(max_money, 2),'Dollar')\n",
        "val.append(max_money)"
      ],
      "execution_count": 0,
      "outputs": [
        {
          "output_type": "stream",
          "text": [
            "The maximum of money for all races is 100.0 Dollar\n"
          ],
          "name": "stdout"
        }
      ]
    },
    {
      "cell_type": "code",
      "metadata": {
        "id": "ajseCRO_33w2",
        "colab_type": "code",
        "outputId": "68d32813-cb32-4687-c1d0-dc0a6e2fe16e",
        "colab": {
          "base_uri": "https://localhost:8080/",
          "height": 198
        }
      },
      "source": [
        "header = ['Average fuel consumption', 'Maximum fuel consumption','Average money', 'Sum all money', 'Maximum Money']\n",
        "p = pd.DataFrame(val, index = header, columns=['Data'])\n",
        "p"
      ],
      "execution_count": 0,
      "outputs": [
        {
          "output_type": "execute_result",
          "data": {
            "text/html": [
              "<div>\n",
              "<style scoped>\n",
              "    .dataframe tbody tr th:only-of-type {\n",
              "        vertical-align: middle;\n",
              "    }\n",
              "\n",
              "    .dataframe tbody tr th {\n",
              "        vertical-align: top;\n",
              "    }\n",
              "\n",
              "    .dataframe thead th {\n",
              "        text-align: right;\n",
              "    }\n",
              "</style>\n",
              "<table border=\"1\" class=\"dataframe\">\n",
              "  <thead>\n",
              "    <tr style=\"text-align: right;\">\n",
              "      <th></th>\n",
              "      <th>Data</th>\n",
              "    </tr>\n",
              "  </thead>\n",
              "  <tbody>\n",
              "    <tr>\n",
              "      <th>Average fuel consumption</th>\n",
              "      <td>0.63</td>\n",
              "    </tr>\n",
              "    <tr>\n",
              "      <th>Maximum fuel consumption</th>\n",
              "      <td>0.63</td>\n",
              "    </tr>\n",
              "    <tr>\n",
              "      <th>Average money</th>\n",
              "      <td>37.00</td>\n",
              "    </tr>\n",
              "    <tr>\n",
              "      <th>Sum all money</th>\n",
              "      <td>370.00</td>\n",
              "    </tr>\n",
              "    <tr>\n",
              "      <th>Maximum Money</th>\n",
              "      <td>100.00</td>\n",
              "    </tr>\n",
              "  </tbody>\n",
              "</table>\n",
              "</div>"
            ],
            "text/plain": [
              "                            Data\n",
              "Average fuel consumption    0.63\n",
              "Maximum fuel consumption    0.63\n",
              "Average money              37.00\n",
              "Sum all money             370.00\n",
              "Maximum Money             100.00"
            ]
          },
          "metadata": {
            "tags": []
          },
          "execution_count": 511
        }
      ]
    },
    {
      "cell_type": "markdown",
      "metadata": {
        "id": "SLIfXxI_HNjo",
        "colab_type": "text"
      },
      "source": [
        "How often has a driver driven"
      ]
    },
    {
      "cell_type": "code",
      "metadata": {
        "id": "osUrgbbLIicX",
        "colab_type": "code",
        "outputId": "c416f277-158e-46ce-dc6d-d6cbab12eeaf",
        "colab": {
          "base_uri": "https://localhost:8080/",
          "height": 126
        }
      },
      "source": [
        "#gets challengers as a series\n",
        "chall_group =df.groupby(df['challenger'])\n",
        "driven1 = chall_group.count().race_driven\n",
        "driven1"
      ],
      "execution_count": 0,
      "outputs": [
        {
          "output_type": "execute_result",
          "data": {
            "text/plain": [
              "challenger\n",
              "4     0\n",
              "5     4\n",
              "8     1\n",
              "10    1\n",
              "Name: race_driven, dtype: int64"
            ]
          },
          "metadata": {
            "tags": []
          },
          "execution_count": 512
        }
      ]
    },
    {
      "cell_type": "code",
      "metadata": {
        "colab_type": "code",
        "outputId": "1d53d2ba-c970-4b6d-8e80-478bf6255abd",
        "id": "9KrjGU3IJZuQ",
        "colab": {
          "base_uri": "https://localhost:8080/",
          "height": 126
        }
      },
      "source": [
        "#gets challengers as a series\n",
        "opp_group =df.groupby(df['opponent'])\n",
        "driven2 = opp_group.count().race_driven\n",
        "driven2"
      ],
      "execution_count": 0,
      "outputs": [
        {
          "output_type": "execute_result",
          "data": {
            "text/plain": [
              "opponent\n",
              "2     1\n",
              "4     3\n",
              "5     0\n",
              "10    2\n",
              "Name: race_driven, dtype: int64"
            ]
          },
          "metadata": {
            "tags": []
          },
          "execution_count": 513
        }
      ]
    },
    {
      "cell_type": "code",
      "metadata": {
        "id": "CF6LfUVqzXWP",
        "colab_type": "code",
        "outputId": "09f59040-c443-4ea8-db3f-749d1a6ab95a",
        "colab": {
          "base_uri": "https://localhost:8080/",
          "height": 126
        }
      },
      "source": [
        "#'merges'the two series and gets the sums\n",
        "res=pd.DataFrame(driven1).T.append(driven2).sum()\n",
        "#sorts rows \n",
        "res.sort_index()"
      ],
      "execution_count": 0,
      "outputs": [
        {
          "output_type": "execute_result",
          "data": {
            "text/plain": [
              "2     1.0\n",
              "4     3.0\n",
              "5     4.0\n",
              "8     1.0\n",
              "10    3.0\n",
              "dtype: float64"
            ]
          },
          "metadata": {
            "tags": []
          },
          "execution_count": 514
        }
      ]
    },
    {
      "cell_type": "markdown",
      "metadata": {
        "id": "lnjhrMKBQoYD",
        "colab_type": "text"
      },
      "source": [
        "Maximum victories (all drivers)"
      ]
    },
    {
      "cell_type": "code",
      "metadata": {
        "id": "sthXU-u1PpfU",
        "colab_type": "code",
        "outputId": "475b3f9d-5cd2-4b4a-f97a-f199d424117f",
        "colab": {
          "base_uri": "https://localhost:8080/",
          "height": 35
        }
      },
      "source": [
        "test = res.where(res==res.max())\n",
        "for label, content in test.items():\n",
        "  if content >= 0:\n",
        "    print('Fahrer Nr.',label, 'hat die meisten Siege:',content)"
      ],
      "execution_count": 0,
      "outputs": [
        {
          "output_type": "stream",
          "text": [
            "Fahrer Nr. 5 hat die meisten Siege: 4.0\n"
          ],
          "name": "stdout"
        }
      ]
    },
    {
      "cell_type": "code",
      "metadata": {
        "id": "GNEqqdkxOFVu",
        "colab_type": "code",
        "outputId": "181adc90-aaf7-40fe-cdea-08ca958aa451",
        "colab": {
          "base_uri": "https://localhost:8080/",
          "height": 286
        }
      },
      "source": [
        "res.plot.bar()"
      ],
      "execution_count": 0,
      "outputs": [
        {
          "output_type": "execute_result",
          "data": {
            "text/plain": [
              "<matplotlib.axes._subplots.AxesSubplot at 0x7fac05e6ec18>"
            ]
          },
          "metadata": {
            "tags": []
          },
          "execution_count": 516
        },
        {
          "output_type": "display_data",
          "data": {
            "image/png": "[encoded data removed]",
            "text/plain": [
              "<Figure size 432x288 with 1 Axes>"
            ]
          },
          "metadata": {
            "tags": []
          }
        }
      ]
    },
    {
      "cell_type": "markdown",
      "metadata": {
        "id": "kcLY2VozV3xp",
        "colab_type": "text"
      },
      "source": [
        "The relation challenger-opponent"
      ]
    },
    {
      "cell_type": "code",
      "metadata": {
        "id": "7AA-G91HGJzQ",
        "colab_type": "code",
        "outputId": "26bfa677-5ea2-40b7-acdd-a9427e928971",
        "colab": {
          "base_uri": "https://localhost:8080/",
          "height": 198
        }
      },
      "source": [
        "#relation challenger-opponent\n",
        "rel =pd.crosstab(df['challenger'],df['opponent'])\n",
        "rel"
      ],
      "execution_count": 0,
      "outputs": [
        {
          "output_type": "execute_result",
          "data": {
            "text/html": [
              "<div>\n",
              "<style scoped>\n",
              "    .dataframe tbody tr th:only-of-type {\n",
              "        vertical-align: middle;\n",
              "    }\n",
              "\n",
              "    .dataframe tbody tr th {\n",
              "        vertical-align: top;\n",
              "    }\n",
              "\n",
              "    .dataframe thead th {\n",
              "        text-align: right;\n",
              "    }\n",
              "</style>\n",
              "<table border=\"1\" class=\"dataframe\">\n",
              "  <thead>\n",
              "    <tr style=\"text-align: right;\">\n",
              "      <th>opponent</th>\n",
              "      <th>2</th>\n",
              "      <th>4</th>\n",
              "      <th>5</th>\n",
              "      <th>10</th>\n",
              "    </tr>\n",
              "    <tr>\n",
              "      <th>challenger</th>\n",
              "      <th></th>\n",
              "      <th></th>\n",
              "      <th></th>\n",
              "      <th></th>\n",
              "    </tr>\n",
              "  </thead>\n",
              "  <tbody>\n",
              "    <tr>\n",
              "      <th>4</th>\n",
              "      <td>0</td>\n",
              "      <td>0</td>\n",
              "      <td>1</td>\n",
              "      <td>0</td>\n",
              "    </tr>\n",
              "    <tr>\n",
              "      <th>5</th>\n",
              "      <td>1</td>\n",
              "      <td>2</td>\n",
              "      <td>0</td>\n",
              "      <td>1</td>\n",
              "    </tr>\n",
              "    <tr>\n",
              "      <th>8</th>\n",
              "      <td>1</td>\n",
              "      <td>0</td>\n",
              "      <td>1</td>\n",
              "      <td>1</td>\n",
              "    </tr>\n",
              "    <tr>\n",
              "      <th>10</th>\n",
              "      <td>0</td>\n",
              "      <td>1</td>\n",
              "      <td>1</td>\n",
              "      <td>0</td>\n",
              "    </tr>\n",
              "  </tbody>\n",
              "</table>\n",
              "</div>"
            ],
            "text/plain": [
              "opponent    2   4   5   10\n",
              "challenger                \n",
              "4            0   0   1   0\n",
              "5            1   2   0   1\n",
              "8            1   0   1   1\n",
              "10           0   1   1   0"
            ]
          },
          "metadata": {
            "tags": []
          },
          "execution_count": 517
        }
      ]
    },
    {
      "cell_type": "markdown",
      "metadata": {
        "id": "r7ocJQF1Vipj",
        "colab_type": "text"
      },
      "source": [
        "Visualization of challenger-opponent relation"
      ]
    },
    {
      "cell_type": "code",
      "metadata": {
        "id": "UTaQYJueGOLZ",
        "colab_type": "code",
        "outputId": "7fa4ed4e-cbaf-4efc-b702-4d2027b3d250",
        "colab": {
          "base_uri": "https://localhost:8080/",
          "height": 297
        }
      },
      "source": [
        "rel.plot()"
      ],
      "execution_count": 0,
      "outputs": [
        {
          "output_type": "execute_result",
          "data": {
            "text/plain": [
              "<matplotlib.axes._subplots.AxesSubplot at 0x7fac04fd8588>"
            ]
          },
          "metadata": {
            "tags": []
          },
          "execution_count": 518
        },
        {
          "output_type": "display_data",
          "data": {
            "image/png": "[encoded data removed]",
            "text/plain": [
              "<Figure size 432x288 with 1 Axes>"
            ]
          },
          "metadata": {
            "tags": []
          }
        }
      ]
    },
    {
      "cell_type": "markdown",
      "metadata": {
        "id": "nvMP9R8itpcS",
        "colab_type": "text"
      },
      "source": [
        "Subset of tables"
      ]
    },
    {
      "cell_type": "code",
      "metadata": {
        "id": "5PMRskl6mWiG",
        "colab_type": "code",
        "outputId": "828ab5ac-f83a-4cef-c00c-1e76c46f6d29",
        "colab": {
          "base_uri": "https://localhost:8080/",
          "height": 378
        }
      },
      "source": [
        "#winning relation challenger-opponent\n",
        "winnertable = df.iloc[0:, 3:9]\n",
        "winnertable"
      ],
      "execution_count": 0,
      "outputs": [
        {
          "output_type": "execute_result",
          "data": {
            "text/html": [
              "<div>\n",
              "<style scoped>\n",
              "    .dataframe tbody tr th:only-of-type {\n",
              "        vertical-align: middle;\n",
              "    }\n",
              "\n",
              "    .dataframe tbody tr th {\n",
              "        vertical-align: top;\n",
              "    }\n",
              "\n",
              "    .dataframe thead th {\n",
              "        text-align: right;\n",
              "    }\n",
              "</style>\n",
              "<table border=\"1\" class=\"dataframe\">\n",
              "  <thead>\n",
              "    <tr style=\"text-align: right;\">\n",
              "      <th></th>\n",
              "      <th>challenger</th>\n",
              "      <th>opponent</th>\n",
              "      <th>money</th>\n",
              "      <th>fuel_consumption</th>\n",
              "      <th>winner</th>\n",
              "      <th>status</th>\n",
              "    </tr>\n",
              "    <tr>\n",
              "      <th>id</th>\n",
              "      <th></th>\n",
              "      <th></th>\n",
              "      <th></th>\n",
              "      <th></th>\n",
              "      <th></th>\n",
              "      <th></th>\n",
              "    </tr>\n",
              "  </thead>\n",
              "  <tbody>\n",
              "    <tr>\n",
              "      <th>1</th>\n",
              "      <td>5</td>\n",
              "      <td>2</td>\n",
              "      <td>30.0</td>\n",
              "      <td>0.63</td>\n",
              "      <td>5</td>\n",
              "      <td>finished</td>\n",
              "    </tr>\n",
              "    <tr>\n",
              "      <th>2</th>\n",
              "      <td>5</td>\n",
              "      <td>4</td>\n",
              "      <td>30.0</td>\n",
              "      <td>0.63</td>\n",
              "      <td>4</td>\n",
              "      <td>finished</td>\n",
              "    </tr>\n",
              "    <tr>\n",
              "      <th>3</th>\n",
              "      <td>10</td>\n",
              "      <td>5</td>\n",
              "      <td>30.0</td>\n",
              "      <td>0.63</td>\n",
              "      <td>0</td>\n",
              "      <td>declined</td>\n",
              "    </tr>\n",
              "    <tr>\n",
              "      <th>4</th>\n",
              "      <td>5</td>\n",
              "      <td>4</td>\n",
              "      <td>30.0</td>\n",
              "      <td>0.63</td>\n",
              "      <td>5</td>\n",
              "      <td>finished</td>\n",
              "    </tr>\n",
              "    <tr>\n",
              "      <th>5</th>\n",
              "      <td>4</td>\n",
              "      <td>5</td>\n",
              "      <td>30.0</td>\n",
              "      <td>0.63</td>\n",
              "      <td>0</td>\n",
              "      <td>declined</td>\n",
              "    </tr>\n",
              "    <tr>\n",
              "      <th>6</th>\n",
              "      <td>5</td>\n",
              "      <td>10</td>\n",
              "      <td>100.0</td>\n",
              "      <td>0.63</td>\n",
              "      <td>5</td>\n",
              "      <td>finished</td>\n",
              "    </tr>\n",
              "    <tr>\n",
              "      <th>7</th>\n",
              "      <td>8</td>\n",
              "      <td>5</td>\n",
              "      <td>30.0</td>\n",
              "      <td>0.63</td>\n",
              "      <td>0</td>\n",
              "      <td>declined</td>\n",
              "    </tr>\n",
              "    <tr>\n",
              "      <th>8</th>\n",
              "      <td>8</td>\n",
              "      <td>2</td>\n",
              "      <td>30.0</td>\n",
              "      <td>0.63</td>\n",
              "      <td>0</td>\n",
              "      <td>retired</td>\n",
              "    </tr>\n",
              "    <tr>\n",
              "      <th>9</th>\n",
              "      <td>10</td>\n",
              "      <td>4</td>\n",
              "      <td>30.0</td>\n",
              "      <td>0.63</td>\n",
              "      <td>4</td>\n",
              "      <td>finished</td>\n",
              "    </tr>\n",
              "    <tr>\n",
              "      <th>10</th>\n",
              "      <td>8</td>\n",
              "      <td>10</td>\n",
              "      <td>30.0</td>\n",
              "      <td>0.63</td>\n",
              "      <td>10</td>\n",
              "      <td>finished</td>\n",
              "    </tr>\n",
              "  </tbody>\n",
              "</table>\n",
              "</div>"
            ],
            "text/plain": [
              "    challenger  opponent  money  fuel_consumption  winner    status\n",
              "id                                                                 \n",
              "1            5         2   30.0              0.63       5  finished\n",
              "2            5         4   30.0              0.63       4  finished\n",
              "3           10         5   30.0              0.63       0  declined\n",
              "4            5         4   30.0              0.63       5  finished\n",
              "5            4         5   30.0              0.63       0  declined\n",
              "6            5        10  100.0              0.63       5  finished\n",
              "7            8         5   30.0              0.63       0  declined\n",
              "8            8         2   30.0              0.63       0   retired\n",
              "9           10         4   30.0              0.63       4  finished\n",
              "10           8        10   30.0              0.63      10  finished"
            ]
          },
          "metadata": {
            "tags": []
          },
          "execution_count": 519
        }
      ]
    },
    {
      "cell_type": "markdown",
      "metadata": {
        "id": "vnmPGTktIPcz",
        "colab_type": "text"
      },
      "source": [
        "Money and fuel consumption per track"
      ]
    },
    {
      "cell_type": "code",
      "metadata": {
        "id": "DG0ZPNkzHTBg",
        "colab_type": "code",
        "outputId": "7ade7d0d-8ed0-43ef-aaaf-4012c913ea6d",
        "colab": {
          "base_uri": "https://localhost:8080/",
          "height": 138
        }
      },
      "source": [
        "track_grouped = df.groupby(df['track_id'])\n",
        "track_grouped_sum =track_grouped.sum()\n",
        "track_grouped_sum\n"
      ],
      "execution_count": 0,
      "outputs": [
        {
          "output_type": "execute_result",
          "data": {
            "text/html": [
              "<div>\n",
              "<style scoped>\n",
              "    .dataframe tbody tr th:only-of-type {\n",
              "        vertical-align: middle;\n",
              "    }\n",
              "\n",
              "    .dataframe tbody tr th {\n",
              "        vertical-align: top;\n",
              "    }\n",
              "\n",
              "    .dataframe thead th {\n",
              "        text-align: right;\n",
              "    }\n",
              "</style>\n",
              "<table border=\"1\" class=\"dataframe\">\n",
              "  <thead>\n",
              "    <tr style=\"text-align: right;\">\n",
              "      <th></th>\n",
              "      <th>challenger</th>\n",
              "      <th>opponent</th>\n",
              "      <th>money</th>\n",
              "      <th>fuel_consumption</th>\n",
              "      <th>winner</th>\n",
              "      <th>rainy</th>\n",
              "      <th>snowy</th>\n",
              "      <th>sunny</th>\n",
              "      <th>thundery</th>\n",
              "    </tr>\n",
              "    <tr>\n",
              "      <th>track_id</th>\n",
              "      <th></th>\n",
              "      <th></th>\n",
              "      <th></th>\n",
              "      <th></th>\n",
              "      <th></th>\n",
              "      <th></th>\n",
              "      <th></th>\n",
              "      <th></th>\n",
              "      <th></th>\n",
              "    </tr>\n",
              "  </thead>\n",
              "  <tbody>\n",
              "    <tr>\n",
              "      <th>3</th>\n",
              "      <td>20</td>\n",
              "      <td>9</td>\n",
              "      <td>60.0</td>\n",
              "      <td>1.26</td>\n",
              "      <td>4</td>\n",
              "      <td>50</td>\n",
              "      <td>10</td>\n",
              "      <td>115</td>\n",
              "      <td>25</td>\n",
              "    </tr>\n",
              "    <tr>\n",
              "      <th>12</th>\n",
              "      <td>48</td>\n",
              "      <td>42</td>\n",
              "      <td>310.0</td>\n",
              "      <td>5.04</td>\n",
              "      <td>29</td>\n",
              "      <td>210</td>\n",
              "      <td>90</td>\n",
              "      <td>455</td>\n",
              "      <td>45</td>\n",
              "    </tr>\n",
              "  </tbody>\n",
              "</table>\n",
              "</div>"
            ],
            "text/plain": [
              "          challenger  opponent  money  ...  snowy  sunny  thundery\n",
              "track_id                               ...                        \n",
              "3                 20         9   60.0  ...     10    115        25\n",
              "12                48        42  310.0  ...     90    455        45\n",
              "\n",
              "[2 rows x 9 columns]"
            ]
          },
          "metadata": {
            "tags": []
          },
          "execution_count": 520
        }
      ]
    },
    {
      "cell_type": "code",
      "metadata": {
        "id": "7rYKWmGkrmCe",
        "colab_type": "code",
        "outputId": "ad176cc1-ab5f-40e7-aa55-ba37c30018cb",
        "colab": {
          "base_uri": "https://localhost:8080/",
          "height": 301
        }
      },
      "source": [
        "track_grouped_sum.loc[:,'money':'fuel_consumption'].plot.bar()"
      ],
      "execution_count": 0,
      "outputs": [
        {
          "output_type": "execute_result",
          "data": {
            "text/plain": [
              "<matplotlib.axes._subplots.AxesSubplot at 0x7fac04f5fac8>"
            ]
          },
          "metadata": {
            "tags": []
          },
          "execution_count": 521
        },
        {
          "output_type": "display_data",
          "data": {
            "image/png": "[encoded data removed]",
            "text/plain": [
              "<Figure size 432x288 with 1 Axes>"
            ]
          },
          "metadata": {
            "tags": []
          }
        }
      ]
    },
    {
      "cell_type": "code",
      "metadata": {
        "id": "985-zccPpPCy",
        "colab_type": "code",
        "outputId": "d264500a-8d09-442f-ea63-6d1d32cbf39e",
        "colab": {
          "base_uri": "https://localhost:8080/",
          "height": 138
        }
      },
      "source": [
        "track_grouped_mean = track_grouped.mean()\n",
        "track_grouped_mean "
      ],
      "execution_count": 0,
      "outputs": [
        {
          "output_type": "execute_result",
          "data": {
            "text/html": [
              "<div>\n",
              "<style scoped>\n",
              "    .dataframe tbody tr th:only-of-type {\n",
              "        vertical-align: middle;\n",
              "    }\n",
              "\n",
              "    .dataframe tbody tr th {\n",
              "        vertical-align: top;\n",
              "    }\n",
              "\n",
              "    .dataframe thead th {\n",
              "        text-align: right;\n",
              "    }\n",
              "</style>\n",
              "<table border=\"1\" class=\"dataframe\">\n",
              "  <thead>\n",
              "    <tr style=\"text-align: right;\">\n",
              "      <th></th>\n",
              "      <th>challenger</th>\n",
              "      <th>opponent</th>\n",
              "      <th>money</th>\n",
              "      <th>fuel_consumption</th>\n",
              "      <th>winner</th>\n",
              "      <th>rainy</th>\n",
              "      <th>snowy</th>\n",
              "      <th>sunny</th>\n",
              "      <th>thundery</th>\n",
              "    </tr>\n",
              "    <tr>\n",
              "      <th>track_id</th>\n",
              "      <th></th>\n",
              "      <th></th>\n",
              "      <th></th>\n",
              "      <th></th>\n",
              "      <th></th>\n",
              "      <th></th>\n",
              "      <th></th>\n",
              "      <th></th>\n",
              "      <th></th>\n",
              "    </tr>\n",
              "  </thead>\n",
              "  <tbody>\n",
              "    <tr>\n",
              "      <th>3</th>\n",
              "      <td>10.0</td>\n",
              "      <td>4.50</td>\n",
              "      <td>30.00</td>\n",
              "      <td>0.63</td>\n",
              "      <td>2.000</td>\n",
              "      <td>25.00</td>\n",
              "      <td>5.00</td>\n",
              "      <td>57.500</td>\n",
              "      <td>12.500</td>\n",
              "    </tr>\n",
              "    <tr>\n",
              "      <th>12</th>\n",
              "      <td>6.0</td>\n",
              "      <td>5.25</td>\n",
              "      <td>38.75</td>\n",
              "      <td>0.63</td>\n",
              "      <td>3.625</td>\n",
              "      <td>26.25</td>\n",
              "      <td>11.25</td>\n",
              "      <td>56.875</td>\n",
              "      <td>5.625</td>\n",
              "    </tr>\n",
              "  </tbody>\n",
              "</table>\n",
              "</div>"
            ],
            "text/plain": [
              "          challenger  opponent  money  ...  snowy   sunny  thundery\n",
              "track_id                               ...                         \n",
              "3               10.0      4.50  30.00  ...   5.00  57.500    12.500\n",
              "12               6.0      5.25  38.75  ...  11.25  56.875     5.625\n",
              "\n",
              "[2 rows x 9 columns]"
            ]
          },
          "metadata": {
            "tags": []
          },
          "execution_count": 522
        }
      ]
    },
    {
      "cell_type": "code",
      "metadata": {
        "id": "sG61er4XpWIV",
        "colab_type": "code",
        "outputId": "02cf6dec-c8aa-4940-bcec-138bf81d6f70",
        "colab": {
          "base_uri": "https://localhost:8080/",
          "height": 301
        }
      },
      "source": [
        "track_grouped_mean.loc[:,'money':'fuel_consumption'].plot.bar()"
      ],
      "execution_count": 0,
      "outputs": [
        {
          "output_type": "execute_result",
          "data": {
            "text/plain": [
              "<matplotlib.axes._subplots.AxesSubplot at 0x7fac04ebaf28>"
            ]
          },
          "metadata": {
            "tags": []
          },
          "execution_count": 523
        },
        {
          "output_type": "display_data",
          "data": {
            "image/png": "[encoded data removed]",
            "text/plain": [
              "<Figure size 432x288 with 1 Axes>"
            ]
          },
          "metadata": {
            "tags": []
          }
        }
      ]
    },
    {
      "cell_type": "markdown",
      "metadata": {
        "id": "0nHt3vDR9gB5",
        "colab_type": "text"
      },
      "source": [
        "Money and fuel consumption per winner"
      ]
    },
    {
      "cell_type": "code",
      "metadata": {
        "id": "G8Pk86n3mNAN",
        "colab_type": "code",
        "outputId": "5966a1b5-2034-44c3-bbac-dda5fccacc22",
        "colab": {
          "base_uri": "https://localhost:8080/",
          "height": 198
        }
      },
      "source": [
        "winner_grouped = df.groupby(df['winner'])\n",
        "winner_grouped_sum =winner_grouped.sum()\n",
        "winner_grouped_sum"
      ],
      "execution_count": 0,
      "outputs": [
        {
          "output_type": "execute_result",
          "data": {
            "text/html": [
              "<div>\n",
              "<style scoped>\n",
              "    .dataframe tbody tr th:only-of-type {\n",
              "        vertical-align: middle;\n",
              "    }\n",
              "\n",
              "    .dataframe tbody tr th {\n",
              "        vertical-align: top;\n",
              "    }\n",
              "\n",
              "    .dataframe thead th {\n",
              "        text-align: right;\n",
              "    }\n",
              "</style>\n",
              "<table border=\"1\" class=\"dataframe\">\n",
              "  <thead>\n",
              "    <tr style=\"text-align: right;\">\n",
              "      <th></th>\n",
              "      <th>track_id</th>\n",
              "      <th>challenger</th>\n",
              "      <th>opponent</th>\n",
              "      <th>money</th>\n",
              "      <th>fuel_consumption</th>\n",
              "      <th>rainy</th>\n",
              "      <th>snowy</th>\n",
              "      <th>sunny</th>\n",
              "      <th>thundery</th>\n",
              "    </tr>\n",
              "    <tr>\n",
              "      <th>winner</th>\n",
              "      <th></th>\n",
              "      <th></th>\n",
              "      <th></th>\n",
              "      <th></th>\n",
              "      <th></th>\n",
              "      <th></th>\n",
              "      <th></th>\n",
              "      <th></th>\n",
              "      <th></th>\n",
              "    </tr>\n",
              "  </thead>\n",
              "  <tbody>\n",
              "    <tr>\n",
              "      <th>0</th>\n",
              "      <td>39</td>\n",
              "      <td>30</td>\n",
              "      <td>17</td>\n",
              "      <td>120.0</td>\n",
              "      <td>2.52</td>\n",
              "      <td>40</td>\n",
              "      <td>15</td>\n",
              "      <td>290</td>\n",
              "      <td>55</td>\n",
              "    </tr>\n",
              "    <tr>\n",
              "      <th>4</th>\n",
              "      <td>15</td>\n",
              "      <td>15</td>\n",
              "      <td>8</td>\n",
              "      <td>60.0</td>\n",
              "      <td>1.26</td>\n",
              "      <td>55</td>\n",
              "      <td>20</td>\n",
              "      <td>115</td>\n",
              "      <td>10</td>\n",
              "    </tr>\n",
              "    <tr>\n",
              "      <th>5</th>\n",
              "      <td>36</td>\n",
              "      <td>15</td>\n",
              "      <td>16</td>\n",
              "      <td>160.0</td>\n",
              "      <td>1.89</td>\n",
              "      <td>165</td>\n",
              "      <td>65</td>\n",
              "      <td>65</td>\n",
              "      <td>5</td>\n",
              "    </tr>\n",
              "    <tr>\n",
              "      <th>10</th>\n",
              "      <td>12</td>\n",
              "      <td>8</td>\n",
              "      <td>10</td>\n",
              "      <td>30.0</td>\n",
              "      <td>0.63</td>\n",
              "      <td>0</td>\n",
              "      <td>0</td>\n",
              "      <td>100</td>\n",
              "      <td>0</td>\n",
              "    </tr>\n",
              "  </tbody>\n",
              "</table>\n",
              "</div>"
            ],
            "text/plain": [
              "        track_id  challenger  opponent  money  ...  rainy  snowy  sunny  thundery\n",
              "winner                                         ...                               \n",
              "0             39          30        17  120.0  ...     40     15    290        55\n",
              "4             15          15         8   60.0  ...     55     20    115        10\n",
              "5             36          15        16  160.0  ...    165     65     65         5\n",
              "10            12           8        10   30.0  ...      0      0    100         0\n",
              "\n",
              "[4 rows x 9 columns]"
            ]
          },
          "metadata": {
            "tags": []
          },
          "execution_count": 524
        }
      ]
    },
    {
      "cell_type": "code",
      "metadata": {
        "id": "WJ4p7658iv4M",
        "colab_type": "code",
        "outputId": "6be5464e-8378-4932-aaa8-f6c5d282eaf4",
        "colab": {
          "base_uri": "https://localhost:8080/",
          "height": 300
        }
      },
      "source": [
        "winner_grouped_sum.loc[:,'money':'fuel_consumption'].plot.bar()"
      ],
      "execution_count": 0,
      "outputs": [
        {
          "output_type": "execute_result",
          "data": {
            "text/plain": [
              "<matplotlib.axes._subplots.AxesSubplot at 0x7fac04e3da20>"
            ]
          },
          "metadata": {
            "tags": []
          },
          "execution_count": 525
        },
        {
          "output_type": "display_data",
          "data": {
            "image/png": "[encoded data removed]",
            "text/plain": [
              "<Figure size 432x288 with 1 Axes>"
            ]
          },
          "metadata": {
            "tags": []
          }
        }
      ]
    },
    {
      "cell_type": "markdown",
      "metadata": {
        "id": "FdyUYFDQCtPm",
        "colab_type": "text"
      },
      "source": [
        "How was the weather for the winning driver"
      ]
    },
    {
      "cell_type": "code",
      "metadata": {
        "id": "PFp-yJnpxYnF",
        "colab_type": "code",
        "outputId": "66c28269-8cd1-4fcb-be70-57a3cdc2b56b",
        "colab": {
          "base_uri": "https://localhost:8080/",
          "height": 301
        }
      },
      "source": [
        "winner_grouped_sum.loc[:,'rainy':].plot.bar()"
      ],
      "execution_count": 0,
      "outputs": [
        {
          "output_type": "execute_result",
          "data": {
            "text/plain": [
              "<matplotlib.axes._subplots.AxesSubplot at 0x7fac04e1aa58>"
            ]
          },
          "metadata": {
            "tags": []
          },
          "execution_count": 526
        },
        {
          "output_type": "display_data",
          "data": {
            "image/png": "[encoded data removed]",
            "text/plain": [
              "<Figure size 432x288 with 1 Axes>"
            ]
          },
          "metadata": {
            "tags": []
          }
        }
      ]
    },
    {
      "cell_type": "code",
      "metadata": {
        "id": "eIHaYEh4C8pW",
        "colab_type": "code",
        "outputId": "612392aa-458e-4b5f-8fce-589d944392c7",
        "colab": {
          "base_uri": "https://localhost:8080/",
          "height": 235
        }
      },
      "source": [
        "df3 = pd.DataFrame(df['track_id'], index=[df['race_created']])\n",
        "df3\n",
        "df['track_id']\n",
        "# df3['B'] = pd.Series(list(df[df['race_driven']]))\n",
        "\n",
        "# df3.plot(x='A', y='B')"
      ],
      "execution_count": 0,
      "outputs": [
        {
          "output_type": "execute_result",
          "data": {
            "text/plain": [
              "id\n",
              "1     12\n",
              "2     12\n",
              "3      3\n",
              "4     12\n",
              "5     12\n",
              "6     12\n",
              "7     12\n",
              "8     12\n",
              "9      3\n",
              "10    12\n",
              "Name: track_id, dtype: int64"
            ]
          },
          "metadata": {
            "tags": []
          },
          "execution_count": 540
        }
      ]
    },
    {
      "cell_type": "markdown",
      "metadata": {
        "id": "VE11wpHx91lT",
        "colab_type": "text"
      },
      "source": [
        "Money and fuel consumption per season"
      ]
    },
    {
      "cell_type": "code",
      "metadata": {
        "id": "rRXGontHxdeP",
        "colab_type": "code",
        "outputId": "188a567b-c963-471b-9d6a-d0e93107cde0",
        "colab": {
          "base_uri": "https://localhost:8080/",
          "height": 168
        }
      },
      "source": [
        "winner_grouped = df.groupby(df['weather'])\n",
        "winner_grouped_weather =winner_grouped.sum()\n",
        "winner_grouped_weather"
      ],
      "execution_count": 0,
      "outputs": [
        {
          "output_type": "execute_result",
          "data": {
            "text/html": [
              "<div>\n",
              "<style scoped>\n",
              "    .dataframe tbody tr th:only-of-type {\n",
              "        vertical-align: middle;\n",
              "    }\n",
              "\n",
              "    .dataframe tbody tr th {\n",
              "        vertical-align: top;\n",
              "    }\n",
              "\n",
              "    .dataframe thead th {\n",
              "        text-align: right;\n",
              "    }\n",
              "</style>\n",
              "<table border=\"1\" class=\"dataframe\">\n",
              "  <thead>\n",
              "    <tr style=\"text-align: right;\">\n",
              "      <th></th>\n",
              "      <th>track_id</th>\n",
              "      <th>challenger</th>\n",
              "      <th>opponent</th>\n",
              "      <th>money</th>\n",
              "      <th>fuel_consumption</th>\n",
              "      <th>winner</th>\n",
              "      <th>rainy</th>\n",
              "      <th>snowy</th>\n",
              "      <th>sunny</th>\n",
              "      <th>thundery</th>\n",
              "    </tr>\n",
              "    <tr>\n",
              "      <th>weather</th>\n",
              "      <th></th>\n",
              "      <th></th>\n",
              "      <th></th>\n",
              "      <th></th>\n",
              "      <th></th>\n",
              "      <th></th>\n",
              "      <th></th>\n",
              "      <th></th>\n",
              "      <th></th>\n",
              "      <th></th>\n",
              "    </tr>\n",
              "  </thead>\n",
              "  <tbody>\n",
              "    <tr>\n",
              "      <th>rainy</th>\n",
              "      <td>12</td>\n",
              "      <td>5</td>\n",
              "      <td>2</td>\n",
              "      <td>30.0</td>\n",
              "      <td>0.63</td>\n",
              "      <td>5</td>\n",
              "      <td>70</td>\n",
              "      <td>20</td>\n",
              "      <td>10</td>\n",
              "      <td>0</td>\n",
              "    </tr>\n",
              "    <tr>\n",
              "      <th>snowy</th>\n",
              "      <td>12</td>\n",
              "      <td>5</td>\n",
              "      <td>10</td>\n",
              "      <td>100.0</td>\n",
              "      <td>0.63</td>\n",
              "      <td>5</td>\n",
              "      <td>20</td>\n",
              "      <td>45</td>\n",
              "      <td>30</td>\n",
              "      <td>5</td>\n",
              "    </tr>\n",
              "    <tr>\n",
              "      <th>sunny</th>\n",
              "      <td>39</td>\n",
              "      <td>28</td>\n",
              "      <td>22</td>\n",
              "      <td>120.0</td>\n",
              "      <td>2.52</td>\n",
              "      <td>23</td>\n",
              "      <td>130</td>\n",
              "      <td>20</td>\n",
              "      <td>240</td>\n",
              "      <td>10</td>\n",
              "    </tr>\n",
              "  </tbody>\n",
              "</table>\n",
              "</div>"
            ],
            "text/plain": [
              "         track_id  challenger  opponent  money  ...  rainy  snowy  sunny  thundery\n",
              "weather                                         ...                               \n",
              "rainy          12           5         2   30.0  ...     70     20     10         0\n",
              "snowy          12           5        10  100.0  ...     20     45     30         5\n",
              "sunny          39          28        22  120.0  ...    130     20    240        10\n",
              "\n",
              "[3 rows x 10 columns]"
            ]
          },
          "metadata": {
            "tags": []
          },
          "execution_count": 528
        }
      ]
    },
    {
      "cell_type": "code",
      "metadata": {
        "id": "wuG1DtfJ229t",
        "colab_type": "code",
        "outputId": "3fb31fc5-81f5-49e2-b3cd-2c8dda69000e",
        "colab": {
          "base_uri": "https://localhost:8080/",
          "height": 319
        }
      },
      "source": [
        "\n",
        "winner_grouped_weather.loc[:,'money':'fuel_consumption'].plot.bar()"
      ],
      "execution_count": 0,
      "outputs": [
        {
          "output_type": "execute_result",
          "data": {
            "text/plain": [
              "<matplotlib.axes._subplots.AxesSubplot at 0x7fac04d46ac8>"
            ]
          },
          "metadata": {
            "tags": []
          },
          "execution_count": 529
        },
        {
          "output_type": "display_data",
          "data": {
            "image/png": "[encoded data removed]",
            "text/plain": [
              "<Figure size 432x288 with 1 Axes>"
            ]
          },
          "metadata": {
            "tags": []
          }
        }
      ]
    },
    {
      "cell_type": "markdown",
      "metadata": {
        "id": "OljH4eEW_b7K",
        "colab_type": "text"
      },
      "source": [
        "Change of probability per races"
      ]
    },
    {
      "cell_type": "code",
      "metadata": {
        "id": "-tn2EMr04mHj",
        "colab_type": "code",
        "outputId": "11cb68ae-1da6-4b1e-bb8d-9882c5f3a736",
        "colab": {
          "base_uri": "https://localhost:8080/",
          "height": 378
        }
      },
      "source": [
        "forecast = df.iloc[:,-5:]\n",
        "forecast"
      ],
      "execution_count": 0,
      "outputs": [
        {
          "output_type": "execute_result",
          "data": {
            "text/html": [
              "<div>\n",
              "<style scoped>\n",
              "    .dataframe tbody tr th:only-of-type {\n",
              "        vertical-align: middle;\n",
              "    }\n",
              "\n",
              "    .dataframe tbody tr th {\n",
              "        vertical-align: top;\n",
              "    }\n",
              "\n",
              "    .dataframe thead th {\n",
              "        text-align: right;\n",
              "    }\n",
              "</style>\n",
              "<table border=\"1\" class=\"dataframe\">\n",
              "  <thead>\n",
              "    <tr style=\"text-align: right;\">\n",
              "      <th></th>\n",
              "      <th>weather</th>\n",
              "      <th>rainy</th>\n",
              "      <th>snowy</th>\n",
              "      <th>sunny</th>\n",
              "      <th>thundery</th>\n",
              "    </tr>\n",
              "    <tr>\n",
              "      <th>id</th>\n",
              "      <th></th>\n",
              "      <th></th>\n",
              "      <th></th>\n",
              "      <th></th>\n",
              "      <th></th>\n",
              "    </tr>\n",
              "  </thead>\n",
              "  <tbody>\n",
              "    <tr>\n",
              "      <th>1</th>\n",
              "      <td>rainy</td>\n",
              "      <td>70</td>\n",
              "      <td>20</td>\n",
              "      <td>10</td>\n",
              "      <td>0</td>\n",
              "    </tr>\n",
              "    <tr>\n",
              "      <th>2</th>\n",
              "      <td>sunny</td>\n",
              "      <td>15</td>\n",
              "      <td>15</td>\n",
              "      <td>70</td>\n",
              "      <td>0</td>\n",
              "    </tr>\n",
              "    <tr>\n",
              "      <th>3</th>\n",
              "      <td>NaN</td>\n",
              "      <td>10</td>\n",
              "      <td>5</td>\n",
              "      <td>70</td>\n",
              "      <td>15</td>\n",
              "    </tr>\n",
              "    <tr>\n",
              "      <th>4</th>\n",
              "      <td>sunny</td>\n",
              "      <td>75</td>\n",
              "      <td>0</td>\n",
              "      <td>25</td>\n",
              "      <td>0</td>\n",
              "    </tr>\n",
              "    <tr>\n",
              "      <th>5</th>\n",
              "      <td>NaN</td>\n",
              "      <td>20</td>\n",
              "      <td>5</td>\n",
              "      <td>45</td>\n",
              "      <td>30</td>\n",
              "    </tr>\n",
              "    <tr>\n",
              "      <th>6</th>\n",
              "      <td>snowy</td>\n",
              "      <td>20</td>\n",
              "      <td>45</td>\n",
              "      <td>30</td>\n",
              "      <td>5</td>\n",
              "    </tr>\n",
              "    <tr>\n",
              "      <th>7</th>\n",
              "      <td>NaN</td>\n",
              "      <td>5</td>\n",
              "      <td>5</td>\n",
              "      <td>80</td>\n",
              "      <td>10</td>\n",
              "    </tr>\n",
              "    <tr>\n",
              "      <th>8</th>\n",
              "      <td>NaN</td>\n",
              "      <td>5</td>\n",
              "      <td>0</td>\n",
              "      <td>95</td>\n",
              "      <td>0</td>\n",
              "    </tr>\n",
              "    <tr>\n",
              "      <th>9</th>\n",
              "      <td>sunny</td>\n",
              "      <td>40</td>\n",
              "      <td>5</td>\n",
              "      <td>45</td>\n",
              "      <td>10</td>\n",
              "    </tr>\n",
              "    <tr>\n",
              "      <th>10</th>\n",
              "      <td>sunny</td>\n",
              "      <td>0</td>\n",
              "      <td>0</td>\n",
              "      <td>100</td>\n",
              "      <td>0</td>\n",
              "    </tr>\n",
              "  </tbody>\n",
              "</table>\n",
              "</div>"
            ],
            "text/plain": [
              "   weather  rainy  snowy  sunny  thundery\n",
              "id                                       \n",
              "1    rainy     70     20     10         0\n",
              "2    sunny     15     15     70         0\n",
              "3      NaN     10      5     70        15\n",
              "4    sunny     75      0     25         0\n",
              "5      NaN     20      5     45        30\n",
              "6    snowy     20     45     30         5\n",
              "7      NaN      5      5     80        10\n",
              "8      NaN      5      0     95         0\n",
              "9    sunny     40      5     45        10\n",
              "10   sunny      0      0    100         0"
            ]
          },
          "metadata": {
            "tags": []
          },
          "execution_count": 530
        }
      ]
    },
    {
      "cell_type": "code",
      "metadata": {
        "id": "3FAYepnx-GjG",
        "colab_type": "code",
        "outputId": "5f4fce67-5163-49b4-a412-19fcf1af5959",
        "colab": {
          "base_uri": "https://localhost:8080/",
          "height": 297
        }
      },
      "source": [
        "forecast.plot()"
      ],
      "execution_count": 0,
      "outputs": [
        {
          "output_type": "execute_result",
          "data": {
            "text/plain": [
              "<matplotlib.axes._subplots.AxesSubplot at 0x7fac04d08c88>"
            ]
          },
          "metadata": {
            "tags": []
          },
          "execution_count": 531
        },
        {
          "output_type": "display_data",
          "data": {
            "image/png": "[encoded data removed]",
            "text/plain": [
              "<Figure size 432x288 with 1 Axes>"
            ]
          },
          "metadata": {
            "tags": []
          }
        }
      ]
    },
    {
      "cell_type": "markdown",
      "metadata": {
        "id": "Gc-fwrcM_pen",
        "colab_type": "text"
      },
      "source": [
        "The weather - probability and occuring"
      ]
    },
    {
      "cell_type": "code",
      "metadata": {
        "id": "yaEg7inxHWV0",
        "colab_type": "code",
        "outputId": "6175c081-1d6d-4371-9d2b-55365b459143",
        "colab": {
          "base_uri": "https://localhost:8080/",
          "height": 381
        }
      },
      "source": [
        "forec = df.iloc[:,-4:]\n",
        "mat = df.T\n",
        "weather_liste=[]\n",
        "for x,y in mat.iteritems():\n",
        "  w =forec.T[x].idxmax()\n",
        "  max= forec.T[x].max()\n",
        "  date_tup = mat.loc['race_driven',x:x]\n",
        "  date_str = date_tup.array[0]\n",
        "  date = date_str.date()\n",
        "  day = date_str.day_name()\n",
        "\n",
        "  if str(date) == 'NaT':\n",
        "    day = \"\"\n",
        "    date = 'Rennen ausgefallen'\n",
        "\n",
        "  print(day+str(date),'Die Wahrscheinlichkeit für',w,'betrug',max,'%')\n",
        "\n",
        "  weather_tup = mat.loc['weather',x:x]\n",
        "  weather_str = weather_tup.array[0]\n",
        "  \n",
        "  if weather_str == w:\n",
        "\n",
        "    print('Voraussage eingetroffen!')\n",
        "  else:\n",
        "    print('Voraussage nicht eingetroffen.')\n",
        "  weather_liste.append([date_str, weather_str,w,max ])\n",
        "\n"
      ],
      "execution_count": 0,
      "outputs": [
        {
          "output_type": "stream",
          "text": [
            "Sunday2012-06-03 Die Wahrscheinlichkeit für rainy betrug 70 %\n",
            "Voraussage eingetroffen!\n",
            "Sunday2012-06-03 Die Wahrscheinlichkeit für sunny betrug 70 %\n",
            "Voraussage eingetroffen!\n",
            "Rennen ausgefallen Die Wahrscheinlichkeit für sunny betrug 70 %\n",
            "Voraussage nicht eingetroffen.\n",
            "Sunday2012-06-03 Die Wahrscheinlichkeit für rainy betrug 75 %\n",
            "Voraussage nicht eingetroffen.\n",
            "Rennen ausgefallen Die Wahrscheinlichkeit für sunny betrug 45 %\n",
            "Voraussage nicht eingetroffen.\n",
            "Sunday2012-06-03 Die Wahrscheinlichkeit für snowy betrug 45 %\n",
            "Voraussage eingetroffen!\n",
            "Rennen ausgefallen Die Wahrscheinlichkeit für sunny betrug 80 %\n",
            "Voraussage nicht eingetroffen.\n",
            "Rennen ausgefallen Die Wahrscheinlichkeit für sunny betrug 95 %\n",
            "Voraussage nicht eingetroffen.\n",
            "Sunday2012-06-03 Die Wahrscheinlichkeit für sunny betrug 45 %\n",
            "Voraussage eingetroffen!\n",
            "Sunday2012-06-03 Die Wahrscheinlichkeit für sunny betrug 100 %\n",
            "Voraussage eingetroffen!\n"
          ],
          "name": "stdout"
        }
      ]
    },
    {
      "cell_type": "code",
      "metadata": {
        "id": "9Djr0ELS_2EI",
        "colab_type": "code",
        "outputId": "f87e6688-ef01-4c08-a157-f119926eb387",
        "colab": {
          "base_uri": "https://localhost:8080/",
          "height": 270
        }
      },
      "source": [
        "mat.T.boxplot()"
      ],
      "execution_count": 0,
      "outputs": [
        {
          "output_type": "execute_result",
          "data": {
            "text/plain": [
              "<matplotlib.axes._subplots.AxesSubplot at 0x7fac04c49358>"
            ]
          },
          "metadata": {
            "tags": []
          },
          "execution_count": 533
        },
        {
          "output_type": "display_data",
          "data": {
            "image/png": "[encoded data removed]",
            "text/plain": [
              "<Figure size 432x288 with 1 Axes>"
            ]
          },
          "metadata": {
            "tags": []
          }
        }
      ]
    },
    {
      "cell_type": "code",
      "metadata": {
        "id": "oR9pwG8dWdEb",
        "colab_type": "code",
        "outputId": "2c160a0f-f718-4eff-93cc-90cbec618056",
        "colab": {
          "base_uri": "https://localhost:8080/",
          "height": 249
        }
      },
      "source": [
        "columns = ['race_driven', 'weather', 'forecast', 'probability']\n",
        "forecasts = pd.DataFrame(data=weather_liste, columns=columns)\n",
        "(forecasts.loc[0:]\n",
        "    .style\n",
        "    .background_gradient(cmap='viridis', low=.5, high=0)\n",
        "    .highlight_null('red'))"
      ],
      "execution_count": 0,
      "outputs": [
        {
          "output_type": "execute_result",
          "data": {
            "text/html": [
              "<style  type=\"text/css\" >\n",
              "    #T_37b79bb4_4463_11ea_a593_0242ac1c0002row0_col3 {\n",
              "            background-color:  #2ab07f;\n",
              "            color:  #000000;\n",
              "            : ;\n",
              "        }    #T_37b79bb4_4463_11ea_a593_0242ac1c0002row1_col3 {\n",
              "            background-color:  #2ab07f;\n",
              "            color:  #000000;\n",
              "            : ;\n",
              "        }    #T_37b79bb4_4463_11ea_a593_0242ac1c0002row2_col0 {\n",
              "            background-color:  red;\n",
              "        }    #T_37b79bb4_4463_11ea_a593_0242ac1c0002row2_col1 {\n",
              "            background-color:  red;\n",
              "        }    #T_37b79bb4_4463_11ea_a593_0242ac1c0002row2_col3 {\n",
              "            background-color:  #2ab07f;\n",
              "            color:  #000000;\n",
              "            : ;\n",
              "        }    #T_37b79bb4_4463_11ea_a593_0242ac1c0002row3_col3 {\n",
              "            background-color:  #42be71;\n",
              "            color:  #000000;\n",
              "            : ;\n",
              "        }    #T_37b79bb4_4463_11ea_a593_0242ac1c0002row4_col0 {\n",
              "            background-color:  red;\n",
              "        }    #T_37b79bb4_4463_11ea_a593_0242ac1c0002row4_col1 {\n",
              "            background-color:  red;\n",
              "        }    #T_37b79bb4_4463_11ea_a593_0242ac1c0002row4_col3 {\n",
              "            background-color:  #31688e;\n",
              "            color:  #f1f1f1;\n",
              "            : ;\n",
              "        }    #T_37b79bb4_4463_11ea_a593_0242ac1c0002row5_col3 {\n",
              "            background-color:  #31688e;\n",
              "            color:  #f1f1f1;\n",
              "            : ;\n",
              "        }    #T_37b79bb4_4463_11ea_a593_0242ac1c0002row6_col0 {\n",
              "            background-color:  red;\n",
              "        }    #T_37b79bb4_4463_11ea_a593_0242ac1c0002row6_col1 {\n",
              "            background-color:  red;\n",
              "        }    #T_37b79bb4_4463_11ea_a593_0242ac1c0002row6_col3 {\n",
              "            background-color:  #60ca60;\n",
              "            color:  #000000;\n",
              "            : ;\n",
              "        }    #T_37b79bb4_4463_11ea_a593_0242ac1c0002row7_col0 {\n",
              "            background-color:  red;\n",
              "        }    #T_37b79bb4_4463_11ea_a593_0242ac1c0002row7_col1 {\n",
              "            background-color:  red;\n",
              "        }    #T_37b79bb4_4463_11ea_a593_0242ac1c0002row7_col3 {\n",
              "            background-color:  #d8e219;\n",
              "            color:  #000000;\n",
              "            : ;\n",
              "        }    #T_37b79bb4_4463_11ea_a593_0242ac1c0002row8_col3 {\n",
              "            background-color:  #31688e;\n",
              "            color:  #f1f1f1;\n",
              "            : ;\n",
              "        }    #T_37b79bb4_4463_11ea_a593_0242ac1c0002row9_col3 {\n",
              "            background-color:  #fde725;\n",
              "            color:  #000000;\n",
              "            : ;\n",
              "        }</style><table id=\"T_37b79bb4_4463_11ea_a593_0242ac1c0002\" ><thead>    <tr>        <th class=\"blank level0\" ></th>        <th class=\"col_heading level0 col0\" >race_driven</th>        <th class=\"col_heading level0 col1\" >weather</th>        <th class=\"col_heading level0 col2\" >forecast</th>        <th class=\"col_heading level0 col3\" >probability</th>    </tr></thead><tbody>\n",
              "                <tr>\n",
              "                        <th id=\"T_37b79bb4_4463_11ea_a593_0242ac1c0002level0_row0\" class=\"row_heading level0 row0\" >0</th>\n",
              "                        <td id=\"T_37b79bb4_4463_11ea_a593_0242ac1c0002row0_col0\" class=\"data row0 col0\" >2012-06-03 00:00:00</td>\n",
              "                        <td id=\"T_37b79bb4_4463_11ea_a593_0242ac1c0002row0_col1\" class=\"data row0 col1\" >rainy</td>\n",
              "                        <td id=\"T_37b79bb4_4463_11ea_a593_0242ac1c0002row0_col2\" class=\"data row0 col2\" >rainy</td>\n",
              "                        <td id=\"T_37b79bb4_4463_11ea_a593_0242ac1c0002row0_col3\" class=\"data row0 col3\" >70</td>\n",
              "            </tr>\n",
              "            <tr>\n",
              "                        <th id=\"T_37b79bb4_4463_11ea_a593_0242ac1c0002level0_row1\" class=\"row_heading level0 row1\" >1</th>\n",
              "                        <td id=\"T_37b79bb4_4463_11ea_a593_0242ac1c0002row1_col0\" class=\"data row1 col0\" >2012-06-03 00:03:00</td>\n",
              "                        <td id=\"T_37b79bb4_4463_11ea_a593_0242ac1c0002row1_col1\" class=\"data row1 col1\" >sunny</td>\n",
              "                        <td id=\"T_37b79bb4_4463_11ea_a593_0242ac1c0002row1_col2\" class=\"data row1 col2\" >sunny</td>\n",
              "                        <td id=\"T_37b79bb4_4463_11ea_a593_0242ac1c0002row1_col3\" class=\"data row1 col3\" >70</td>\n",
              "            </tr>\n",
              "            <tr>\n",
              "                        <th id=\"T_37b79bb4_4463_11ea_a593_0242ac1c0002level0_row2\" class=\"row_heading level0 row2\" >2</th>\n",
              "                        <td id=\"T_37b79bb4_4463_11ea_a593_0242ac1c0002row2_col0\" class=\"data row2 col0\" >NaT</td>\n",
              "                        <td id=\"T_37b79bb4_4463_11ea_a593_0242ac1c0002row2_col1\" class=\"data row2 col1\" >nan</td>\n",
              "                        <td id=\"T_37b79bb4_4463_11ea_a593_0242ac1c0002row2_col2\" class=\"data row2 col2\" >sunny</td>\n",
              "                        <td id=\"T_37b79bb4_4463_11ea_a593_0242ac1c0002row2_col3\" class=\"data row2 col3\" >70</td>\n",
              "            </tr>\n",
              "            <tr>\n",
              "                        <th id=\"T_37b79bb4_4463_11ea_a593_0242ac1c0002level0_row3\" class=\"row_heading level0 row3\" >3</th>\n",
              "                        <td id=\"T_37b79bb4_4463_11ea_a593_0242ac1c0002row3_col0\" class=\"data row3 col0\" >2012-06-03 00:06:00</td>\n",
              "                        <td id=\"T_37b79bb4_4463_11ea_a593_0242ac1c0002row3_col1\" class=\"data row3 col1\" >sunny</td>\n",
              "                        <td id=\"T_37b79bb4_4463_11ea_a593_0242ac1c0002row3_col2\" class=\"data row3 col2\" >rainy</td>\n",
              "                        <td id=\"T_37b79bb4_4463_11ea_a593_0242ac1c0002row3_col3\" class=\"data row3 col3\" >75</td>\n",
              "            </tr>\n",
              "            <tr>\n",
              "                        <th id=\"T_37b79bb4_4463_11ea_a593_0242ac1c0002level0_row4\" class=\"row_heading level0 row4\" >4</th>\n",
              "                        <td id=\"T_37b79bb4_4463_11ea_a593_0242ac1c0002row4_col0\" class=\"data row4 col0\" >NaT</td>\n",
              "                        <td id=\"T_37b79bb4_4463_11ea_a593_0242ac1c0002row4_col1\" class=\"data row4 col1\" >nan</td>\n",
              "                        <td id=\"T_37b79bb4_4463_11ea_a593_0242ac1c0002row4_col2\" class=\"data row4 col2\" >sunny</td>\n",
              "                        <td id=\"T_37b79bb4_4463_11ea_a593_0242ac1c0002row4_col3\" class=\"data row4 col3\" >45</td>\n",
              "            </tr>\n",
              "            <tr>\n",
              "                        <th id=\"T_37b79bb4_4463_11ea_a593_0242ac1c0002level0_row5\" class=\"row_heading level0 row5\" >5</th>\n",
              "                        <td id=\"T_37b79bb4_4463_11ea_a593_0242ac1c0002row5_col0\" class=\"data row5 col0\" >2012-06-03 00:17:00</td>\n",
              "                        <td id=\"T_37b79bb4_4463_11ea_a593_0242ac1c0002row5_col1\" class=\"data row5 col1\" >snowy</td>\n",
              "                        <td id=\"T_37b79bb4_4463_11ea_a593_0242ac1c0002row5_col2\" class=\"data row5 col2\" >snowy</td>\n",
              "                        <td id=\"T_37b79bb4_4463_11ea_a593_0242ac1c0002row5_col3\" class=\"data row5 col3\" >45</td>\n",
              "            </tr>\n",
              "            <tr>\n",
              "                        <th id=\"T_37b79bb4_4463_11ea_a593_0242ac1c0002level0_row6\" class=\"row_heading level0 row6\" >6</th>\n",
              "                        <td id=\"T_37b79bb4_4463_11ea_a593_0242ac1c0002row6_col0\" class=\"data row6 col0\" >NaT</td>\n",
              "                        <td id=\"T_37b79bb4_4463_11ea_a593_0242ac1c0002row6_col1\" class=\"data row6 col1\" >nan</td>\n",
              "                        <td id=\"T_37b79bb4_4463_11ea_a593_0242ac1c0002row6_col2\" class=\"data row6 col2\" >sunny</td>\n",
              "                        <td id=\"T_37b79bb4_4463_11ea_a593_0242ac1c0002row6_col3\" class=\"data row6 col3\" >80</td>\n",
              "            </tr>\n",
              "            <tr>\n",
              "                        <th id=\"T_37b79bb4_4463_11ea_a593_0242ac1c0002level0_row7\" class=\"row_heading level0 row7\" >7</th>\n",
              "                        <td id=\"T_37b79bb4_4463_11ea_a593_0242ac1c0002row7_col0\" class=\"data row7 col0\" >NaT</td>\n",
              "                        <td id=\"T_37b79bb4_4463_11ea_a593_0242ac1c0002row7_col1\" class=\"data row7 col1\" >nan</td>\n",
              "                        <td id=\"T_37b79bb4_4463_11ea_a593_0242ac1c0002row7_col2\" class=\"data row7 col2\" >sunny</td>\n",
              "                        <td id=\"T_37b79bb4_4463_11ea_a593_0242ac1c0002row7_col3\" class=\"data row7 col3\" >95</td>\n",
              "            </tr>\n",
              "            <tr>\n",
              "                        <th id=\"T_37b79bb4_4463_11ea_a593_0242ac1c0002level0_row8\" class=\"row_heading level0 row8\" >8</th>\n",
              "                        <td id=\"T_37b79bb4_4463_11ea_a593_0242ac1c0002row8_col0\" class=\"data row8 col0\" >2012-06-03 00:08:00</td>\n",
              "                        <td id=\"T_37b79bb4_4463_11ea_a593_0242ac1c0002row8_col1\" class=\"data row8 col1\" >sunny</td>\n",
              "                        <td id=\"T_37b79bb4_4463_11ea_a593_0242ac1c0002row8_col2\" class=\"data row8 col2\" >sunny</td>\n",
              "                        <td id=\"T_37b79bb4_4463_11ea_a593_0242ac1c0002row8_col3\" class=\"data row8 col3\" >45</td>\n",
              "            </tr>\n",
              "            <tr>\n",
              "                        <th id=\"T_37b79bb4_4463_11ea_a593_0242ac1c0002level0_row9\" class=\"row_heading level0 row9\" >9</th>\n",
              "                        <td id=\"T_37b79bb4_4463_11ea_a593_0242ac1c0002row9_col0\" class=\"data row9 col0\" >2012-06-03 00:10:00</td>\n",
              "                        <td id=\"T_37b79bb4_4463_11ea_a593_0242ac1c0002row9_col1\" class=\"data row9 col1\" >sunny</td>\n",
              "                        <td id=\"T_37b79bb4_4463_11ea_a593_0242ac1c0002row9_col2\" class=\"data row9 col2\" >sunny</td>\n",
              "                        <td id=\"T_37b79bb4_4463_11ea_a593_0242ac1c0002row9_col3\" class=\"data row9 col3\" >100</td>\n",
              "            </tr>\n",
              "    </tbody></table>"
            ],
            "text/plain": [
              "<pandas.io.formats.style.Styler at 0x7fac04c25668>"
            ]
          },
          "metadata": {
            "tags": []
          },
          "execution_count": 534
        }
      ]
    },
    {
      "cell_type": "code",
      "metadata": {
        "id": "RO6S8WKjuD34",
        "colab_type": "code",
        "colab": {}
      },
      "source": [
        ""
      ],
      "execution_count": 0,
      "outputs": []
    }
  ]
}